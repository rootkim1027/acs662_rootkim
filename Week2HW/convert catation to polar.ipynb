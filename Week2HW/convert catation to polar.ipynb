{
 "cells": [
  {
   "cell_type": "code",
   "execution_count": 30,
   "id": "90dc0d4a",
   "metadata": {},
   "outputs": [
    {
     "name": "stdout",
     "output_type": "stream",
     "text": [
      "x:8\n",
      "y:7\n",
      "r: 10.63014581273465 theta: 0.7188299996216245\n",
      "0\n"
     ]
    }
   ],
   "source": [
    "import numpy as np\n",
    "import math\n",
    "from math import pi\n",
    "x=float(input('x:'))\n",
    "y=float(input('y:'))\n",
    "r=0\n",
    "def convert(x,y):\n",
    "    r=(x**2+y**2)**0.5\n",
    "    if x>0 and y>0 :\n",
    "        th=(math.atan(y/x))\n",
    "    elif x>0 and y<0 :\n",
    "        th=(math.atan(y/x)+2*pi)\n",
    "    elif x<0 :\n",
    "        th=(math.atan(y/x)+pi)\n",
    "    elif x==0 and y>0 :\n",
    "        th=pi/2\n",
    "    else :\n",
    "        th=(3*pi)/2\n",
    "    print('r:',r,'theta:',th)\n",
    "    \n",
    "convert(x,y)\n",
    "print(r)"
   ]
  },
  {
   "cell_type": "code",
   "execution_count": null,
   "id": "73c93362",
   "metadata": {},
   "outputs": [],
   "source": []
  }
 ],
 "metadata": {
  "kernelspec": {
   "display_name": "Python 3 (ipykernel)",
   "language": "python",
   "name": "python3"
  },
  "language_info": {
   "codemirror_mode": {
    "name": "ipython",
    "version": 3
   },
   "file_extension": ".py",
   "mimetype": "text/x-python",
   "name": "python",
   "nbconvert_exporter": "python",
   "pygments_lexer": "ipython3",
   "version": "3.9.6"
  }
 },
 "nbformat": 4,
 "nbformat_minor": 5
}
